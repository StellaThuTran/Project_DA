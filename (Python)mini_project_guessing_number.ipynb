{
 "cells": [
  {
   "cell_type": "markdown",
   "metadata": {},
   "source": [
    "### Trong project này, chúng ta sẽ làm 1 trò chơi nhỏ mang tên đoán số. Cụ thể, Máy tính sẽ chọn random 1 số từ 1 đến 10 (không in ra màn hình).\n",
    "### Chúng ta sẽ đoán máy tính chọn số bao nhiêu?\n",
    "#### - Nếu số chúng ta đoán thấp hơn máy tính thì in ra \"Your guessing number is too low\"\n",
    "#### - Nếu số chúng ta đoán cao hơn máy tính thì in ra \"Your guessing number is too high\"\n",
    "#### - Nếu chúng ta đoán đúng số thì in ra \"You got the correct number after\" xx \"tries\" trong đó xx là số lần đoán. (xx <= 5)\n",
    "#### - Trường hợp 5 lần đoán sai thì sẽ dừng trò chơi và in ra \"Gameover!!! The correct number is yy\" trong đó yy là số mà máy tính chọn\n",
    "\n",
    "#### Những kiến thức cover trong project này: input(), print(), while loop, if - elif - else, break."
   ]
  },
  {
   "cell_type": "code",
   "execution_count": null,
   "metadata": {},
   "outputs": [
    {
     "name": "stdout",
     "output_type": "stream",
     "text": [
      "In this game, you only have 5 times to guess\n"
     ]
    }
   ],
   "source": [
    "# generate random number\n",
    "import numpy as np\n",
    "computer = np.random.randint(1,11)\n",
    "\n",
    "# guess_limit = 5\n",
    "print(\"In this game, you only have 5 times to guess\")\n",
    "\n",
    "# input player's name\n",
    "player = input(\"Please enter your name\")\n",
    "\n",
    "# Say hi and welcome player to the guessing game\n",
    "print('Hi, welcome ' + player + ' to the guessing game')\n",
    "\n",
    "# guess = input the number you guess\n",
    "# develop while loop\n",
    "guess_limit = 1\n",
    "while guess_limit <= 5:\n",
    "    guess = int(input(\"What's the number?\"))\n",
    "    if guess < computer:\n",
    "        print(\"Your guessing number is too low\")\n",
    "    elif guess > computer:\n",
    "        print(\"Your guessing number is too high\")\n",
    "    else :\n",
    "        print(\"You got the correct number after \" + str(guess_limit) + \" tries\")\n",
    "        break\n",
    "    guess_limit = guess_limit + 1\n",
    "\n",
    "# stop the game when you find out the correct number after xx times (xx <= 5) OR the guessing number in your 5th attempt is still wrong\n",
    "else :\n",
    "    print(\"Gameover!!! The correct number is \" + str(computer))\n",
    "\n"
   ]
  }
 ],
 "metadata": {
  "kernelspec": {
   "display_name": "Python 3 (ipykernel)",
   "language": "python",
   "name": "python3"
  },
  "language_info": {
   "codemirror_mode": {
    "name": "ipython",
    "version": 3
   },
   "file_extension": ".py",
   "mimetype": "text/x-python",
   "name": "python",
   "nbconvert_exporter": "python",
   "pygments_lexer": "ipython3",
   "version": "3.9.12"
  }
 },
 "nbformat": 4,
 "nbformat_minor": 2
}
