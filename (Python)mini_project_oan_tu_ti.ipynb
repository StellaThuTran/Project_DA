{
 "cells": [
  {
   "cell_type": "markdown",
   "metadata": {},
   "source": [
    "#### Trong project này chúng ta sẽ mô phỏng lại trò chơi dân gian oẳn tù tì.\n",
    "#### Cụ thể, chúng ta sẽ oẳn tù tì với máy. Máy sẽ chọn random búa, kéo, hoặc lá trong mỗi lần oẳn tù tì.\n",
    "#### Chúng ta sẽ chọn ra búa, kéo hoặc lá sau đó in ra kết quả. Trường hợp người chơi nhập sai, yêu cầu người chơi nhập lại theo đúng chính tả theo 3 sự lựa chọn búa, kéo, hoặc lá.\n",
    "#### Lưu ý, sau mỗi lượt chơi, máy sẽ random chọn lại búa kéo hoặc lá.\n",
    "\n",
    "#### Các kiến thức cover trong mini project này: Array, random, while loop, if - elif - else."
   ]
  },
  {
   "cell_type": "code",
   "execution_count": null,
   "metadata": {},
   "outputs": [
    {
     "name": "stdout",
     "output_type": "stream",
     "text": [
      "Nhập \"kéo\", \"búa\" hoặc \"lá\"d\n",
      "nđ\n"
     ]
    }
   ],
   "source": [
    "# tạo array búa, kéo, lá\n",
    "import numpy as np\n",
    "action = np.array(['búa', 'kéo', 'lá'])\n",
    "\n",
    "# máy chọn random\n",
    "# tạo vòng lặp while để chạy chương trình\n",
    "\n",
    "while True:\n",
    "    computer = np.random.choice(action)\n",
    "    player = input('Nhập \"kéo\", \"búa\" hoặc \"lá\"')\n",
    "    if player == computer:\n",
    "        print(computer + \" . Chúng ta huề nhau\")\n",
    "    elif computer == 'búa':\n",
    "        if player == 'kéo':\n",
    "            print('tôi ra búa. bạn thua')\n",
    "        if player == 'lá':\n",
    "            print('tôi ra lá. bạn thắng')\n",
    "    elif computer == 'kéo':\n",
    "        if player == 'búa':\n",
    "            print('tôi ra kéo. bạn thắng')\n",
    "        if player == 'lá':\n",
    "            print('tôi ra kéo. bạn thua')\n",
    "    elif computer == 'lá':\n",
    "        if player == 'kéo':\n",
    "            print('tôi ra lá. bạn thắng')\n",
    "        if player == 'búa':\n",
    "            print('tôi ra lá. bạn thua')\n",
    "    False \n",
    "    print(\"nđ\")"
   ]
  },
  {
   "cell_type": "code",
   "execution_count": null,
   "metadata": {},
   "outputs": [
    {
     "name": "stdout",
     "output_type": "stream",
     "text": [
      "Nhậpb\n",
      "Nhập đúng\n",
      "Nhậpbúa\n",
      "lose\n",
      "Nhậpkéo\n",
      "huề\n"
     ]
    }
   ],
   "source": [
    "#C2\n",
    "import random \n",
    "arr = [\"búa\", \"kéo\", \"lá\"]\n",
    "computer = arr[random.randint(0,2)]\n",
    "\n",
    "play = True\n",
    "while play == True:\n",
    "    player = input(\"Nhập\")\n",
    "    if player == computer:\n",
    "        print(\"huề\")\n",
    "    elif player == \"búa\":\n",
    "        if computer == \"lá\":\n",
    "            print(\"win\")\n",
    "        else:\n",
    "            print(\"lose\")\n",
    "    elif player == \"kéo\":\n",
    "        if computer == \"búa\":\n",
    "            print(\"win\")\n",
    "        else:\n",
    "            print(\"lose\")\n",
    "    elif player == \"lá\":\n",
    "        if computer == \"búa\":\n",
    "            print(\"win\")\n",
    "        else:\n",
    "            print(\"lose\")\n",
    "    else:\n",
    "        print(\"Nhập đúng\")"
   ]
  },
  {
   "cell_type": "code",
   "execution_count": null,
   "metadata": {},
   "outputs": [],
   "source": []
  }
 ],
 "metadata": {
  "kernelspec": {
   "display_name": "Python 3 (ipykernel)",
   "language": "python",
   "name": "python3"
  },
  "language_info": {
   "codemirror_mode": {
    "name": "ipython",
    "version": 3
   },
   "file_extension": ".py",
   "mimetype": "text/x-python",
   "name": "python",
   "nbconvert_exporter": "python",
   "pygments_lexer": "ipython3",
   "version": "3.9.12"
  }
 },
 "nbformat": 4,
 "nbformat_minor": 2
}
